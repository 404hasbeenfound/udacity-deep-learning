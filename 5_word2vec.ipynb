{
 "cells": [
  {
   "cell_type": "markdown",
   "metadata": {
    "colab_type": "text",
    "id": "D7tqLMoKF6uq"
   },
   "source": [
    "Deep Learning\n",
    "=============\n",
    "\n",
    "Assignment 5\n",
    "------------\n",
    "\n",
    "The goal of this assignment is to train a Word2Vec skip-gram model over [Text8](http://mattmahoney.net/dc/textdata) data."
   ]
  },
  {
   "cell_type": "code",
   "execution_count": 1,
   "metadata": {
    "cellView": "both",
    "colab": {
     "autoexec": {
      "startup": false,
      "wait_interval": 0
     }
    },
    "colab_type": "code",
    "collapsed": true,
    "id": "0K1ZyLn04QZf"
   },
   "outputs": [],
   "source": [
    "# These are all the modules we'll be using later. Make sure you can import them\n",
    "# before proceeding further.\n",
    "%matplotlib inline\n",
    "from __future__ import print_function\n",
    "import collections\n",
    "import math\n",
    "import numpy as np\n",
    "import os\n",
    "import random\n",
    "import tensorflow as tf\n",
    "import zipfile\n",
    "from matplotlib import pylab\n",
    "from six.moves import range\n",
    "from six.moves.urllib.request import urlretrieve\n",
    "from sklearn.manifold import TSNE"
   ]
  },
  {
   "cell_type": "markdown",
   "metadata": {
    "colab_type": "text",
    "id": "aCjPJE944bkV"
   },
   "source": [
    "Download the data from the source website if necessary."
   ]
  },
  {
   "cell_type": "code",
   "execution_count": 2,
   "metadata": {
    "cellView": "both",
    "colab": {
     "autoexec": {
      "startup": false,
      "wait_interval": 0
     },
     "output_extras": [
      {
       "item_id": 1
      }
     ]
    },
    "colab_type": "code",
    "collapsed": false,
    "executionInfo": {
     "elapsed": 14640,
     "status": "ok",
     "timestamp": 1445964482948,
     "user": {
      "color": "#1FA15D",
      "displayName": "Vincent Vanhoucke",
      "isAnonymous": false,
      "isMe": true,
      "permissionId": "05076109866853157986",
      "photoUrl": "//lh6.googleusercontent.com/-cCJa7dTDcgQ/AAAAAAAAAAI/AAAAAAAACgw/r2EZ_8oYer4/s50-c-k-no/photo.jpg",
      "sessionId": "2f1ffade4c9f20de",
      "userId": "102167687554210253930"
     },
     "user_tz": 420
    },
    "id": "RJ-o3UBUFtCw",
    "outputId": "c4ec222c-80b5-4298-e635-93ca9f79c3b7"
   },
   "outputs": [
    {
     "name": "stdout",
     "output_type": "stream",
     "text": [
      "Found and verified text8.zip\n"
     ]
    }
   ],
   "source": [
    "url = 'http://mattmahoney.net/dc/'\n",
    "\n",
    "def maybe_download(filename, expected_bytes):\n",
    "  \"\"\"Download a file if not present, and make sure it's the right size.\"\"\"\n",
    "  if not os.path.exists(filename):\n",
    "    filename, _ = urlretrieve(url + filename, filename)\n",
    "  statinfo = os.stat(filename)\n",
    "  if statinfo.st_size == expected_bytes:\n",
    "    print('Found and verified %s' % filename)\n",
    "  else:\n",
    "    print(statinfo.st_size)\n",
    "    raise Exception(\n",
    "      'Failed to verify ' + filename + '. Can you get to it with a browser?')\n",
    "  return filename\n",
    "\n",
    "filename = maybe_download('text8.zip', 31344016)"
   ]
  },
  {
   "cell_type": "markdown",
   "metadata": {
    "colab_type": "text",
    "id": "Zqz3XiqI4mZT"
   },
   "source": [
    "Read the data into a string."
   ]
  },
  {
   "cell_type": "code",
   "execution_count": 3,
   "metadata": {
    "cellView": "both",
    "colab": {
     "autoexec": {
      "startup": false,
      "wait_interval": 0
     },
     "output_extras": [
      {
       "item_id": 1
      }
     ]
    },
    "colab_type": "code",
    "collapsed": false,
    "executionInfo": {
     "elapsed": 28844,
     "status": "ok",
     "timestamp": 1445964497165,
     "user": {
      "color": "#1FA15D",
      "displayName": "Vincent Vanhoucke",
      "isAnonymous": false,
      "isMe": true,
      "permissionId": "05076109866853157986",
      "photoUrl": "//lh6.googleusercontent.com/-cCJa7dTDcgQ/AAAAAAAAAAI/AAAAAAAACgw/r2EZ_8oYer4/s50-c-k-no/photo.jpg",
      "sessionId": "2f1ffade4c9f20de",
      "userId": "102167687554210253930"
     },
     "user_tz": 420
    },
    "id": "Mvf09fjugFU_",
    "outputId": "e3a928b4-1645-4fe8-be17-fcf47de5716d"
   },
   "outputs": [
    {
     "name": "stdout",
     "output_type": "stream",
     "text": [
      "Data size 17005207\n"
     ]
    }
   ],
   "source": [
    "def read_data(filename):\n",
    "  \"\"\"Extract the first file enclosed in a zip file as a list of words\"\"\"\n",
    "  with zipfile.ZipFile(filename) as f:\n",
    "    data = tf.compat.as_str(f.read(f.namelist()[0])).split()\n",
    "  return data\n",
    "  \n",
    "words = read_data(filename)\n",
    "print('Data size %d' % len(words))"
   ]
  },
  {
   "cell_type": "markdown",
   "metadata": {
    "colab_type": "text",
    "id": "Zdw6i4F8glpp"
   },
   "source": [
    "Build the dictionary and replace rare words with UNK token."
   ]
  },
  {
   "cell_type": "code",
   "execution_count": 4,
   "metadata": {
    "cellView": "both",
    "colab": {
     "autoexec": {
      "startup": false,
      "wait_interval": 0
     },
     "output_extras": [
      {
       "item_id": 1
      }
     ]
    },
    "colab_type": "code",
    "collapsed": false,
    "executionInfo": {
     "elapsed": 28849,
     "status": "ok",
     "timestamp": 1445964497178,
     "user": {
      "color": "#1FA15D",
      "displayName": "Vincent Vanhoucke",
      "isAnonymous": false,
      "isMe": true,
      "permissionId": "05076109866853157986",
      "photoUrl": "//lh6.googleusercontent.com/-cCJa7dTDcgQ/AAAAAAAAAAI/AAAAAAAACgw/r2EZ_8oYer4/s50-c-k-no/photo.jpg",
      "sessionId": "2f1ffade4c9f20de",
      "userId": "102167687554210253930"
     },
     "user_tz": 420
    },
    "id": "gAL1EECXeZsD",
    "outputId": "3fb4ecd1-df67-44b6-a2dc-2291730970b2"
   },
   "outputs": [
    {
     "name": "stdout",
     "output_type": "stream",
     "text": [
      "Most common words (+UNK) [['UNK', 418391], ('the', 1061396), ('of', 593677), ('and', 416629), ('one', 411764)]\n",
      "Sample data [5239, 3084, 12, 6, 195, 2, 3137, 46, 59, 156]\n"
     ]
    }
   ],
   "source": [
    "vocabulary_size = 50000\n",
    "\n",
    "def build_dataset(words):\n",
    "  count = [['UNK', -1]]\n",
    "  count.extend(collections.Counter(words).most_common(vocabulary_size - 1))\n",
    "  dictionary = dict()\n",
    "  for word, _ in count:\n",
    "    dictionary[word] = len(dictionary)\n",
    "  data = list()\n",
    "  unk_count = 0\n",
    "  for word in words:\n",
    "    if word in dictionary:\n",
    "      index = dictionary[word]\n",
    "    else:\n",
    "      index = 0  # dictionary['UNK']\n",
    "      unk_count = unk_count + 1\n",
    "    data.append(index)\n",
    "  count[0][1] = unk_count\n",
    "  reverse_dictionary = dict(zip(dictionary.values(), dictionary.keys())) \n",
    "  return data, count, dictionary, reverse_dictionary\n",
    "\n",
    "data, count, dictionary, reverse_dictionary = build_dataset(words)\n",
    "print('Most common words (+UNK)', count[:5])\n",
    "print('Sample data', data[:10])\n",
    "del words  # Hint to reduce memory."
   ]
  },
  {
   "cell_type": "markdown",
   "metadata": {
    "colab_type": "text",
    "id": "lFwoyygOmWsL"
   },
   "source": [
    "Function to generate a training batch for the skip-gram model."
   ]
  },
  {
   "cell_type": "code",
   "execution_count": 5,
   "metadata": {
    "cellView": "both",
    "colab": {
     "autoexec": {
      "startup": false,
      "wait_interval": 0
     },
     "output_extras": [
      {
       "item_id": 1
      }
     ]
    },
    "colab_type": "code",
    "collapsed": false,
    "executionInfo": {
     "elapsed": 113,
     "status": "ok",
     "timestamp": 1445964901989,
     "user": {
      "color": "#1FA15D",
      "displayName": "Vincent Vanhoucke",
      "isAnonymous": false,
      "isMe": true,
      "permissionId": "05076109866853157986",
      "photoUrl": "//lh6.googleusercontent.com/-cCJa7dTDcgQ/AAAAAAAAAAI/AAAAAAAACgw/r2EZ_8oYer4/s50-c-k-no/photo.jpg",
      "sessionId": "2f1ffade4c9f20de",
      "userId": "102167687554210253930"
     },
     "user_tz": 420
    },
    "id": "w9APjA-zmfjV",
    "outputId": "67cccb02-cdaf-4e47-d489-43bcc8d57bb8"
   },
   "outputs": [
    {
     "name": "stdout",
     "output_type": "stream",
     "text": [
      "data: ['anarchism', 'originated', 'as', 'a', 'term', 'of', 'abuse', 'first']\n",
      "\n",
      "with num_skips = 2 and skip_window = 1:\n",
      "    batch: ['originated', 'originated', 'as', 'as', 'a', 'a', 'term', 'term']\n",
      "    labels: ['anarchism', 'as', 'originated', 'a', 'term', 'as', 'a', 'of']\n",
      "\n",
      "with num_skips = 4 and skip_window = 2:\n",
      "    batch: ['as', 'as', 'as', 'as', 'a', 'a', 'a', 'a']\n",
      "    labels: ['term', 'originated', 'a', 'anarchism', 'as', 'originated', 'of', 'term']\n"
     ]
    }
   ],
   "source": [
    "data_index = 0\n",
    "\n",
    "def generate_batch(batch_size, num_skips, skip_window):\n",
    "  global data_index\n",
    "  assert batch_size % num_skips == 0\n",
    "  assert num_skips <= 2 * skip_window\n",
    "  batch = np.ndarray(shape=(batch_size), dtype=np.int32)\n",
    "  labels = np.ndarray(shape=(batch_size, 1), dtype=np.int32)\n",
    "  span = 2 * skip_window + 1 # [ skip_window target skip_window ]\n",
    "  buffer = collections.deque(maxlen=span)\n",
    "  for _ in range(span):\n",
    "    buffer.append(data[data_index])\n",
    "    data_index = (data_index + 1) % len(data)\n",
    "  for i in range(batch_size // num_skips):\n",
    "    target = skip_window  # target label at the center of the buffer\n",
    "    targets_to_avoid = [ skip_window ]\n",
    "    for j in range(num_skips):\n",
    "      while target in targets_to_avoid:\n",
    "        target = random.randint(0, span - 1)\n",
    "      targets_to_avoid.append(target)\n",
    "      batch[i * num_skips + j] = buffer[skip_window]\n",
    "      labels[i * num_skips + j, 0] = buffer[target]\n",
    "    buffer.append(data[data_index])\n",
    "    data_index = (data_index + 1) % len(data)\n",
    "  return batch, labels\n",
    "\n",
    "print('data:', [reverse_dictionary[di] for di in data[:8]])\n",
    "\n",
    "for num_skips, skip_window in [(2, 1), (4, 2)]:\n",
    "    data_index = 0\n",
    "    batch, labels = generate_batch(batch_size=8, num_skips=num_skips, skip_window=skip_window)\n",
    "    print('\\nwith num_skips = %d and skip_window = %d:' % (num_skips, skip_window))\n",
    "    print('    batch:', [reverse_dictionary[bi] for bi in batch])\n",
    "    print('    labels:', [reverse_dictionary[li] for li in labels.reshape(8)])"
   ]
  },
  {
   "cell_type": "markdown",
   "metadata": {},
   "source": [
    "Note: the labels is a sliding random value of the word surrounding the words of the batch."
   ]
  },
  {
   "cell_type": "markdown",
   "metadata": {
    "colab_type": "text",
    "id": "Ofd1MbBuwiva"
   },
   "source": [
    "Train a skip-gram model."
   ]
  },
  {
   "cell_type": "code",
   "execution_count": 6,
   "metadata": {
    "cellView": "both",
    "colab": {
     "autoexec": {
      "startup": false,
      "wait_interval": 0
     }
    },
    "colab_type": "code",
    "collapsed": true,
    "id": "8pQKsV4Vwlzy"
   },
   "outputs": [],
   "source": [
    "batch_size = 128\n",
    "embedding_size = 128 # Dimension of the embedding vector.\n",
    "skip_window = 1 # How many words to consider left and right.\n",
    "num_skips = 2 # How many times to reuse an input to generate a label.\n",
    "# We pick a random validation set to sample nearest neighbors. here we limit the\n",
    "# validation samples to the words that have a low numeric ID, which by\n",
    "# construction are also the most frequent. \n",
    "valid_size = 16 # Random set of words to evaluate similarity on.\n",
    "valid_window = 100 # Only pick dev samples in the head of the distribution.\n",
    "valid_examples = np.array(random.sample(range(valid_window), valid_size))\n",
    "num_sampled = 64 # Number of negative examples to sample.\n",
    "\n",
    "graph = tf.Graph()\n",
    "\n",
    "with graph.as_default(), tf.device('/cpu:0'):\n",
    "\n",
    "  # Input data.\n",
    "  train_dataset = tf.placeholder(tf.int32, shape=[batch_size])\n",
    "  train_labels = tf.placeholder(tf.int32, shape=[batch_size, 1])\n",
    "  valid_dataset = tf.constant(valid_examples, dtype=tf.int32)\n",
    "  \n",
    "  # Variables.\n",
    "  embeddings = tf.Variable(\n",
    "    tf.random_uniform([vocabulary_size, embedding_size], -1.0, 1.0))\n",
    "  softmax_weights = tf.Variable(\n",
    "    tf.truncated_normal([vocabulary_size, embedding_size],\n",
    "                         stddev=1.0 / math.sqrt(embedding_size)))\n",
    "  softmax_biases = tf.Variable(tf.zeros([vocabulary_size]))\n",
    "  \n",
    "  # Model.\n",
    "  # Look up embeddings for inputs.\n",
    "  embed = tf.nn.embedding_lookup(embeddings, train_dataset)\n",
    "  # Compute the softmax loss, using a sample of the negative labels each time.\n",
    "  loss = tf.reduce_mean(\n",
    "    tf.nn.sampled_softmax_loss(softmax_weights, softmax_biases, embed,\n",
    "                               train_labels, num_sampled, vocabulary_size))\n",
    "\n",
    "  # Optimizer.\n",
    "  optimizer = tf.train.AdagradOptimizer(1.0).minimize(loss)\n",
    "  \n",
    "  # Compute the similarity between minibatch examples and all embeddings.\n",
    "  # We use the cosine distance:\n",
    "  norm = tf.sqrt(tf.reduce_sum(tf.square(embeddings), 1, keep_dims=True))\n",
    "  normalized_embeddings = embeddings / norm\n",
    "  valid_embeddings = tf.nn.embedding_lookup(\n",
    "    normalized_embeddings, valid_dataset)\n",
    "  similarity = tf.matmul(valid_embeddings, tf.transpose(normalized_embeddings))"
   ]
  },
  {
   "cell_type": "code",
   "execution_count": 7,
   "metadata": {
    "cellView": "both",
    "colab": {
     "autoexec": {
      "startup": false,
      "wait_interval": 0
     },
     "output_extras": [
      {
       "item_id": 23
      },
      {
       "item_id": 48
      },
      {
       "item_id": 61
      }
     ]
    },
    "colab_type": "code",
    "collapsed": false,
    "executionInfo": {
     "elapsed": 436189,
     "status": "ok",
     "timestamp": 1445965429787,
     "user": {
      "color": "#1FA15D",
      "displayName": "Vincent Vanhoucke",
      "isAnonymous": false,
      "isMe": true,
      "permissionId": "05076109866853157986",
      "photoUrl": "//lh6.googleusercontent.com/-cCJa7dTDcgQ/AAAAAAAAAAI/AAAAAAAACgw/r2EZ_8oYer4/s50-c-k-no/photo.jpg",
      "sessionId": "2f1ffade4c9f20de",
      "userId": "102167687554210253930"
     },
     "user_tz": 420
    },
    "id": "1bQFGceBxrWW",
    "outputId": "5ebd6d9a-33c6-4bcd-bf6d-252b0b6055e4"
   },
   "outputs": [
    {
     "name": "stdout",
     "output_type": "stream",
     "text": [
      "Initialized\n",
      "Average loss at step 0: 8.269136\n",
      "Nearest to an: yardage, sunglasses, eszterh, avenged, hubs, presiding, conjunctions, narcotics,\n",
      "Nearest to these: tender, fairness, tallinn, szab, rota, responsiveness, photographed, removable,\n",
      "Nearest to in: melting, iterated, thoroughbred, orbs, gottlieb, grim, duluth, mumia,\n",
      "Nearest to such: protagonist, irony, masjid, oem, aquinas, antiquark, pinto, drachmae,\n",
      "Nearest to than: abolishing, sardonic, captive, liza, intercommunal, before, mosul, executed,\n",
      "Nearest to however: tora, tipper, spoofed, bailey, altimeter, bloodshed, chalcedonian, sibling,\n",
      "Nearest to who: hickman, respectively, vertebrates, szl, fleischer, imitative, rarities, predicament,\n",
      "Nearest to be: metallurgy, staircase, anhui, cede, jazz, humphries, flippers, marital,\n",
      "Nearest to but: knotted, travelogue, copland, shoah, faisal, doherty, firstborn, riviera,\n",
      "Nearest to had: wimbledon, toy, vhs, twos, uf, surged, sketching, kendo,\n",
      "Nearest to four: booklets, analgesics, od, berne, achromatic, franck, cockburn, hospital,\n",
      "Nearest to if: unsurpassed, embarking, catalysed, extends, hurl, pushes, mpc, ribbentrop,\n",
      "Nearest to up: zohar, geometrically, sharada, codenamed, constituents, trygve, calmly, porvoo,\n",
      "Nearest to into: harker, inhibiting, sandalwood, whirlpool, timed, circulation, pharaonic, norms,\n",
      "Nearest to five: longue, massimo, jfif, huddersfield, gaspard, segregation, retracted, camcorders,\n",
      "Nearest to will: fancher, tour, blaise, inadequacy, hog, encodings, bernard, rooks,\n",
      "Average loss at step 2000: 4.362008\n",
      "Average loss at step 4000: 3.864156\n",
      "Average loss at step 6000: 3.788849\n",
      "Average loss at step 8000: 3.688229\n",
      "Average loss at step 10000: 3.616161\n",
      "Nearest to an: dolmen, kipling, lyons, the, awakening, yorker, bobble, hubs,\n",
      "Nearest to these: all, some, marty, rta, hdi, privately, processing, dyslexia,\n",
      "Nearest to in: on, at, during, with, of, by, between, next,\n",
      "Nearest to such: pinto, aquinas, rashi, kibo, baptismal, launching, well, lining,\n",
      "Nearest to than: abolishing, mosul, pardo, captive, roadways, before, fetal, lamm,\n",
      "Nearest to however: spoofed, tora, bailey, tipper, plebs, bloodshed, joshi, higgins,\n",
      "Nearest to who: he, they, snopes, reno, respectively, boudinot, also, fleischer,\n",
      "Nearest to be: have, was, by, is, orbitals, harmattan, as, amoeboid,\n",
      "Nearest to but: ratification, staggering, could, were, cognitive, possessing, college, and,\n",
      "Nearest to had: has, was, have, toy, nottinghamshire, were, intimidating, hovering,\n",
      "Nearest to four: eight, six, three, five, seven, nine, two, zero,\n",
      "Nearest to if: extends, ribbentrop, unsurpassed, evening, intercepting, insurance, bridle, so,\n",
      "Nearest to up: ramses, abnormalities, porvoo, codenamed, panama, zohar, labyrinths, avar,\n",
      "Nearest to into: inhibiting, mcs, circulation, walcott, became, pharaonic, harker, sandalwood,\n",
      "Nearest to five: eight, six, four, seven, three, nine, two, zero,\n",
      "Nearest to will: should, would, can, may, fancher, eluded, blaise, reaches,\n",
      "Average loss at step 12000: 3.606487\n",
      "Average loss at step 14000: 3.564254\n",
      "Average loss at step 16000: 3.405175\n",
      "Average loss at step 18000: 3.459030\n",
      "Average loss at step 20000: 3.542231\n",
      "Nearest to an: kingfisher, dolmen, the, yardage, yorker, remodeling, kipling, barbara,\n",
      "Nearest to these: some, all, many, privately, they, popeye, several, other,\n",
      "Nearest to in: at, during, from, between, with, on, for, within,\n",
      "Nearest to such: known, pinto, geography, well, these, gladly, many, homeschool,\n",
      "Nearest to than: or, logics, mosul, mongol, captive, lamm, warped, jolson,\n",
      "Nearest to however: but, spoofed, that, joshi, dwyer, bailey, squads, plebs,\n",
      "Nearest to who: he, which, they, also, often, that, boudinot, not,\n",
      "Nearest to be: have, been, become, were, refer, by, was, is,\n",
      "Nearest to but: however, which, and, that, staggering, there, southwestern, although,\n",
      "Nearest to had: has, have, was, were, nottinghamshire, synagogues, devo, been,\n",
      "Nearest to four: six, eight, three, seven, five, nine, two, zero,\n",
      "Nearest to if: extends, when, since, evening, ribbentrop, intercepting, insurance, so,\n",
      "Nearest to up: abnormalities, codenamed, ramses, place, porvoo, avar, expend, camillo,\n",
      "Nearest to into: circulation, from, over, mcs, inhibiting, sandalwood, by, tuvalu,\n",
      "Nearest to five: four, six, three, seven, eight, two, zero, nine,\n",
      "Nearest to will: would, can, should, may, could, must, to, striped,\n",
      "Average loss at step 22000: 3.499890\n",
      "Average loss at step 24000: 3.489092\n",
      "Average loss at step 26000: 3.478235\n",
      "Average loss at step 28000: 3.476817\n",
      "Average loss at step 30000: 3.505904\n",
      "Nearest to an: bobble, barbara, kingfisher, awakening, kipling, fanfiction, yardage, yorker,\n",
      "Nearest to these: some, many, all, their, such, several, they, other,\n",
      "Nearest to in: at, during, of, since, under, by, on, from,\n",
      "Nearest to such: well, these, known, pinto, homeschool, geography, regarded, gladly,\n",
      "Nearest to than: mosul, but, logics, withheld, khoi, captive, alchemical, warped,\n",
      "Nearest to however: but, although, joshi, though, that, spoofed, because, plebs,\n",
      "Nearest to who: he, and, they, which, she, often, also, it,\n",
      "Nearest to be: have, become, is, been, were, provide, refer, baiting,\n",
      "Nearest to but: however, and, which, although, that, only, staggering, than,\n",
      "Nearest to had: has, have, was, were, synagogues, disorganized, devo, nottinghamshire,\n",
      "Nearest to four: five, six, three, eight, seven, nine, two, zero,\n",
      "Nearest to if: when, extends, where, evening, cruisers, therefore, logics, ribbentrop,\n",
      "Nearest to up: him, down, place, codenamed, abnormalities, appropriated, ramses, instability,\n",
      "Nearest to into: from, circulation, under, over, kanons, mcs, through, larnaca,\n",
      "Nearest to five: four, eight, six, three, seven, nine, zero, two,\n",
      "Nearest to will: can, would, may, should, could, must, might, cannot,\n",
      "Average loss at step 32000: 3.502352\n",
      "Average loss at step 34000: 3.491368\n",
      "Average loss at step 36000: 3.455251\n",
      "Average loss at step 38000: 3.295514\n",
      "Average loss at step 40000: 3.429293\n",
      "Nearest to an: dolmen, barbara, awakening, kingfisher, kipling, dorians, yorker, alemannic,\n",
      "Nearest to these: many, some, both, such, several, they, their, all,\n",
      "Nearest to in: during, from, at, berners, since, of, between, under,\n",
      "Nearest to such: well, these, known, including, pinto, many, backbench, nuclear,\n",
      "Nearest to than: or, mosul, logics, khoi, indira, withheld, ecole, moist,\n",
      "Nearest to however: but, that, although, and, which, though, interchangeable, because,\n",
      "Nearest to who: which, he, often, they, she, delved, also, both,\n",
      "Nearest to be: is, have, been, was, being, are, become, provide,\n",
      "Nearest to but: however, and, which, fence, staggering, although, it, though,\n",
      "Nearest to had: has, have, was, were, devo, godf, psalter, synagogues,\n",
      "Nearest to four: six, three, seven, five, eight, two, nine, zero,\n",
      "Nearest to if: when, where, since, anticipating, extends, jar, while, ribbentrop,\n",
      "Nearest to up: down, him, back, off, them, codenamed, appropriated, place,\n",
      "Nearest to into: from, through, over, circulation, indulge, adrenal, out, under,\n",
      "Nearest to five: seven, six, four, eight, nine, three, two, zero,\n",
      "Nearest to will: would, can, could, may, should, must, might, cannot,\n",
      "Average loss at step 42000: 3.434532\n",
      "Average loss at step 44000: 3.453346\n",
      "Average loss at step 46000: 3.447905\n",
      "Average loss at step 48000: 3.354141\n",
      "Average loss at step 50000: 3.380108\n",
      "Nearest to an: kingfisher, epithelial, barbara, ounces, dorians, yorker, the, hasty,\n",
      "Nearest to these: some, many, both, several, such, they, various, their,\n",
      "Nearest to in: during, from, between, on, since, commedia, within, throughout,\n",
      "Nearest to such: well, these, known, pinto, many, gladly, backbench, certain,\n",
      "Nearest to than: or, withheld, even, but, mosul, logics, much, calibre,\n",
      "Nearest to however: but, although, that, where, though, when, while, which,\n",
      "Nearest to who: he, which, she, delved, often, they, usually, also,\n",
      "Nearest to be: have, become, been, being, refer, was, were, provide,\n",
      "Nearest to but: however, although, though, when, which, while, where, and,\n",
      "Nearest to had: has, have, was, were, having, been, synagogues, yggdrasil,\n",
      "Nearest to four: three, six, seven, eight, five, nine, two, zero,\n",
      "Nearest to if: when, where, while, so, though, although, since, oni,\n",
      "Nearest to up: off, down, out, him, back, them, appropriated, gladys,\n",
      "Nearest to into: through, from, under, walley, across, over, circulation, valdes,\n",
      "Nearest to five: six, four, eight, seven, three, zero, nine, two,\n",
      "Nearest to will: would, can, could, may, must, should, might, cannot,\n",
      "Average loss at step 52000: 3.433302\n",
      "Average loss at step 54000: 3.428412\n",
      "Average loss at step 56000: 3.438176\n",
      "Average loss at step 58000: 3.393490\n",
      "Average loss at step 60000: 3.392424\n",
      "Nearest to an: kingfisher, epithelial, beja, buffett, hasty, read, lipoprotein, awakening,\n",
      "Nearest to these: some, many, both, several, those, such, all, different,\n",
      "Nearest to in: within, during, at, of, between, from, commedia, including,\n",
      "Nearest to such: well, these, known, many, including, gladly, pinto, certain,\n",
      "Nearest to than: or, but, calibre, much, withheld, and, kilobytes, psychoanalysis,\n",
      "Nearest to however: but, although, that, though, which, when, where, tiberian,\n",
      "Nearest to who: which, he, still, she, usually, often, delved, now,\n",
      "Nearest to be: been, being, become, integrate, is, was, checker, were,\n",
      "Nearest to but: however, although, and, though, when, if, which, than,\n",
      "Nearest to had: has, have, was, were, having, been, crudely, yggdrasil,\n",
      "Nearest to four: five, six, eight, three, seven, nine, two, zero,\n",
      "Nearest to if: when, where, though, since, so, although, but, then,\n",
      "Nearest to up: down, off, out, back, him, them, away, sandworm,\n",
      "Nearest to into: through, from, dirk, under, within, over, across, adrenal,\n",
      "Nearest to five: four, six, eight, three, seven, nine, zero, two,\n",
      "Nearest to will: would, can, could, may, must, should, might, cannot,\n",
      "Average loss at step 62000: 3.235041\n",
      "Average loss at step 64000: 3.256564\n",
      "Average loss at step 66000: 3.398939\n",
      "Average loss at step 68000: 3.391005\n",
      "Average loss at step 70000: 3.356608\n",
      "Nearest to an: the, epithelial, kingfisher, uppermost, read, buffett, jair, awakening,\n",
      "Nearest to these: some, many, such, those, several, various, their, are,\n",
      "Nearest to in: within, during, on, for, throughout, using, from, until,\n",
      "Nearest to such: these, well, known, being, certain, regarded, many, including,\n",
      "Nearest to than: or, but, withheld, and, even, much, calibre, captive,\n",
      "Nearest to however: but, although, though, that, while, where, when, which,\n",
      "Nearest to who: portmanteau, he, eventually, they, gallagher, still, she, which,\n",
      "Nearest to be: been, is, become, being, have, were, was, integrate,\n",
      "Nearest to but: however, although, which, and, that, than, though, cgpm,\n",
      "Nearest to had: has, have, was, were, having, continued, been, received,\n",
      "Nearest to four: six, five, seven, eight, three, two, zero, nine,\n",
      "Nearest to if: when, though, where, while, although, since, respects, however,\n",
      "Nearest to up: down, off, back, out, them, him, away, preservatives,\n",
      "Nearest to into: through, from, within, under, across, onto, sandalwood, between,\n",
      "Nearest to five: four, six, three, eight, seven, zero, nine, two,\n",
      "Nearest to will: would, can, could, may, must, should, might, cannot,\n",
      "Average loss at step 72000: 3.371960\n",
      "Average loss at step 74000: 3.353195\n",
      "Average loss at step 76000: 3.317937\n",
      "Average loss at step 78000: 3.351247\n",
      "Average loss at step 80000: 3.377039\n",
      "Nearest to an: kingfisher, epithelial, barbara, hasty, striping, gholas, narcotics, dorians,\n",
      "Nearest to these: those, several, some, various, many, such, both, different,\n",
      "Nearest to in: during, on, within, at, between, until, heterocyclic, since,\n",
      "Nearest to such: well, these, known, including, certain, pinto, gladly, accessory,\n",
      "Nearest to than: much, or, withheld, but, calibre, mosul, even, and,\n",
      "Nearest to however: although, but, though, that, while, where, since, popeye,\n",
      "Nearest to who: he, still, she, they, yew, which, usually, portmanteau,\n",
      "Nearest to be: been, become, being, have, is, was, are, were,\n",
      "Nearest to but: however, although, and, which, though, while, or, see,\n",
      "Nearest to had: has, have, were, was, having, received, henceforth, continued,\n",
      "Nearest to four: six, five, three, seven, eight, two, nine, zero,\n",
      "Nearest to if: when, though, since, although, where, before, then, whether,\n",
      "Nearest to up: off, down, out, back, them, away, him, preservatives,\n",
      "Nearest to into: through, from, within, under, across, over, onto, shutting,\n",
      "Nearest to five: six, four, seven, eight, three, nine, zero, two,\n",
      "Nearest to will: would, can, could, may, must, should, might, cannot,\n",
      "Average loss at step 82000: 3.406581\n",
      "Average loss at step 84000: 3.410336\n",
      "Average loss at step 86000: 3.391204\n",
      "Average loss at step 88000: 3.352365\n",
      "Average loss at step 90000: 3.362712\n",
      "Nearest to an: kingfisher, another, narcotics, barbara, epithelial, dorians, bobble, uppermost,\n",
      "Nearest to these: several, many, some, those, various, all, are, such,\n",
      "Nearest to in: during, within, under, with, at, between, and, from,\n",
      "Nearest to such: well, known, certain, these, regarded, follows, accessory, gladly,\n",
      "Nearest to than: or, calibre, intercommunal, czes, goodfellas, reactivity, much, even,\n",
      "Nearest to however: but, although, that, though, since, where, while, which,\n",
      "Nearest to who: he, which, still, often, she, they, portmanteau, delved,\n",
      "Nearest to be: become, been, have, was, being, is, refer, produce,\n",
      "Nearest to but: however, although, and, which, though, while, that, or,\n",
      "Nearest to had: has, have, was, were, having, continued, henceforth, crudely,\n",
      "Nearest to four: six, five, seven, eight, three, two, nine, zero,\n",
      "Nearest to if: when, though, since, where, although, before, iau, then,\n",
      "Nearest to up: off, down, out, back, away, him, them, gladys,\n",
      "Nearest to into: through, from, onto, over, within, under, around, between,\n",
      "Nearest to five: seven, six, four, eight, three, nine, zero, two,\n",
      "Nearest to will: would, can, could, must, might, should, may, cannot,\n",
      "Average loss at step 92000: 3.397588\n",
      "Average loss at step 94000: 3.250875\n",
      "Average loss at step 96000: 3.355758\n",
      "Average loss at step 98000: 3.245934\n",
      "Average loss at step 100000: 3.356932\n",
      "Nearest to an: kingfisher, another, epithelial, parking, danelaw, narcotics, uppermost, cumings,\n",
      "Nearest to these: several, some, those, many, various, all, were, their,\n",
      "Nearest to in: during, within, throughout, on, commedia, of, from, under,\n",
      "Nearest to such: well, known, certain, regarded, follows, these, many, having,\n",
      "Nearest to than: or, much, calibre, even, intercommunal, and, reactivity, psychoanalysis,\n",
      "Nearest to however: but, although, that, where, though, which, flintlock, bayonets,\n",
      "Nearest to who: he, she, which, often, still, never, actually, now,\n",
      "Nearest to be: been, being, become, have, refer, easily, contain, are,\n",
      "Nearest to but: however, although, and, though, which, while, where, that,\n",
      "Nearest to had: has, have, was, having, were, would, gets, henceforth,\n",
      "Nearest to four: six, seven, five, eight, three, nine, two, zero,\n",
      "Nearest to if: when, though, where, although, before, while, since, then,\n",
      "Nearest to up: off, down, out, him, back, them, away, gladys,\n",
      "Nearest to into: through, within, onto, from, across, over, adrenal, around,\n",
      "Nearest to five: seven, four, six, eight, three, zero, nine, two,\n",
      "Nearest to will: would, can, could, must, may, should, might, cannot,\n"
     ]
    }
   ],
   "source": [
    "num_steps = 100001\n",
    "\n",
    "with tf.Session(graph=graph) as session:\n",
    "  tf.initialize_all_variables().run()\n",
    "  print('Initialized')\n",
    "  average_loss = 0\n",
    "  for step in range(num_steps):\n",
    "    batch_data, batch_labels = generate_batch(\n",
    "      batch_size, num_skips, skip_window)\n",
    "    feed_dict = {train_dataset : batch_data, train_labels : batch_labels}\n",
    "    _, l = session.run([optimizer, loss], feed_dict=feed_dict)\n",
    "    average_loss += l\n",
    "    if step % 2000 == 0:\n",
    "      if step > 0:\n",
    "        average_loss = average_loss / 2000\n",
    "      # The average loss is an estimate of the loss over the last 2000 batches.\n",
    "      print('Average loss at step %d: %f' % (step, average_loss))\n",
    "      average_loss = 0\n",
    "    # note that this is expensive (~20% slowdown if computed every 500 steps)\n",
    "    if step % 10000 == 0:\n",
    "      sim = similarity.eval()\n",
    "      for i in range(valid_size):\n",
    "        valid_word = reverse_dictionary[valid_examples[i]]\n",
    "        top_k = 8 # number of nearest neighbors\n",
    "        nearest = (-sim[i, :]).argsort()[1:top_k+1]\n",
    "        log = 'Nearest to %s:' % valid_word\n",
    "        for k in range(top_k):\n",
    "          close_word = reverse_dictionary[nearest[k]]\n",
    "          log = '%s %s,' % (log, close_word)\n",
    "        print(log)\n",
    "  final_embeddings = normalized_embeddings.eval()"
   ]
  },
  {
   "cell_type": "code",
   "execution_count": 8,
   "metadata": {
    "collapsed": false
   },
   "outputs": [
    {
     "name": "stdout",
     "output_type": "stream",
     "text": [
      "(50000, 128)\n",
      "[-0.1070329  -0.08394242 -0.02416457 -0.06461842  0.02564699 -0.03103972\n",
      "  0.07786734  0.10687408  0.05966626 -0.01922956 -0.02643537  0.03380132\n",
      " -0.07702988 -0.03646171  0.0690781   0.01358061  0.09022262 -0.09912547\n",
      " -0.18157943  0.08509166 -0.08493158  0.09737586  0.0505717  -0.14210103\n",
      " -0.04700853 -0.14107026  0.02300396 -0.0110333  -0.02632353 -0.04990023\n",
      " -0.04541583  0.02802508 -0.21561946  0.06398775 -0.00680256  0.07644673\n",
      " -0.10604266 -0.05750426 -0.1436989  -0.04973093  0.05057678  0.0392765\n",
      "  0.14892589 -0.1209724  -0.10488433 -0.15151292  0.08513139  0.10783623\n",
      "  0.06726048 -0.16320312 -0.11694154 -0.09998565  0.06008346 -0.0202581\n",
      " -0.04556498 -0.06079192  0.08914071 -0.08328544  0.11845279  0.14534479\n",
      "  0.04414391 -0.03599676  0.05928799  0.1228228   0.03623022 -0.02761342\n",
      "  0.06470956  0.04818601  0.03102748 -0.03461207  0.00799187  0.01262622\n",
      " -0.01490704 -0.10344248  0.11975029 -0.05918534 -0.01512859 -0.0099761\n",
      " -0.06956946  0.06570117 -0.01523171 -0.02851732  0.03458932 -0.13573858\n",
      " -0.03742583 -0.15066481  0.00792553 -0.08279532  0.0288713   0.01134397\n",
      " -0.16148494 -0.18423769  0.08676074  0.14726405  0.24835689  0.20004958\n",
      " -0.0306843  -0.1121926   0.08291345 -0.00152311  0.01819118  0.01859901\n",
      " -0.02032231  0.01313745 -0.01115203  0.16546404  0.00627864 -0.1943842\n",
      "  0.00643381 -0.05854256 -0.01857306 -0.11992641  0.17737225 -0.04168252\n",
      "  0.06385469  0.06656788  0.02404925 -0.11347582 -0.06626043 -0.11608175\n",
      "  0.05306562  0.0075005  -0.02047803 -0.04701384  0.02885685  0.09671248\n",
      "  0.0435485   0.0146426 ]\n"
     ]
    }
   ],
   "source": [
    "print(final_embeddings.shape)\n",
    "print(final_embeddings[1])"
   ]
  },
  {
   "cell_type": "code",
   "execution_count": null,
   "metadata": {
    "cellView": "both",
    "colab": {
     "autoexec": {
      "startup": false,
      "wait_interval": 0
     }
    },
    "colab_type": "code",
    "collapsed": false,
    "id": "jjJXYA_XzV79"
   },
   "outputs": [],
   "source": [
    "num_points = 10 #400\n",
    "\n",
    "tsne = TSNE(perplexity=30, n_components=2, init='pca', n_iter=5000)\n",
    "two_d_embeddings = tsne.fit_transform(final_embeddings[1:num_points+1, :])"
   ]
  },
  {
   "cell_type": "code",
   "execution_count": null,
   "metadata": {
    "cellView": "both",
    "colab": {
     "autoexec": {
      "startup": false,
      "wait_interval": 0
     },
     "output_extras": [
      {
       "item_id": 1
      }
     ]
    },
    "colab_type": "code",
    "collapsed": false,
    "executionInfo": {
     "elapsed": 4763,
     "status": "ok",
     "timestamp": 1445965465525,
     "user": {
      "color": "#1FA15D",
      "displayName": "Vincent Vanhoucke",
      "isAnonymous": false,
      "isMe": true,
      "permissionId": "05076109866853157986",
      "photoUrl": "//lh6.googleusercontent.com/-cCJa7dTDcgQ/AAAAAAAAAAI/AAAAAAAACgw/r2EZ_8oYer4/s50-c-k-no/photo.jpg",
      "sessionId": "2f1ffade4c9f20de",
      "userId": "102167687554210253930"
     },
     "user_tz": 420
    },
    "id": "o_e0D_UezcDe",
    "outputId": "df22e4a5-e8ec-4e5e-d384-c6cf37c68c34"
   },
   "outputs": [],
   "source": [
    "def plot(embeddings, labels):\n",
    "  assert embeddings.shape[0] >= len(labels), 'More labels than embeddings'\n",
    "  pylab.figure(figsize=(15,15))  # in inches\n",
    "  for i, label in enumerate(labels):\n",
    "    x, y = embeddings[i,:]\n",
    "    pylab.scatter(x, y)\n",
    "    pylab.annotate(label, xy=(x, y), xytext=(5, 2), textcoords='offset points',\n",
    "                   ha='right', va='bottom')\n",
    "  pylab.show()\n",
    "\n",
    "words = [reverse_dictionary[i] for i in range(1, num_points+1)]\n",
    "plot(two_d_embeddings, words)"
   ]
  },
  {
   "cell_type": "markdown",
   "metadata": {
    "colab_type": "text",
    "id": "QB5EFrBnpNnc"
   },
   "source": [
    "---\n",
    "\n",
    "Problem\n",
    "-------\n",
    "\n",
    "An alternative to skip-gram is another Word2Vec model called [CBOW](http://arxiv.org/abs/1301.3781) (Continuous Bag of Words). In the CBOW model, instead of predicting a context word from a word vector, you predict a word from the sum of all the word vectors in its context. Implement and evaluate a CBOW model trained on the text8 dataset.\n",
    "\n",
    "---"
   ]
  }
 ],
 "metadata": {
  "colab": {
   "default_view": {},
   "name": "5_word2vec.ipynb",
   "provenance": [],
   "version": "0.3.2",
   "views": {}
  },
  "kernelspec": {
   "display_name": "Python 2",
   "language": "python",
   "name": "python2"
  },
  "language_info": {
   "codemirror_mode": {
    "name": "ipython",
    "version": 2
   },
   "file_extension": ".py",
   "mimetype": "text/x-python",
   "name": "python",
   "nbconvert_exporter": "python",
   "pygments_lexer": "ipython2",
   "version": "2.7.11"
  }
 },
 "nbformat": 4,
 "nbformat_minor": 0
}
